{
 "cells": [
  {
   "cell_type": "code",
   "execution_count": 33,
   "metadata": {},
   "outputs": [
    {
     "data": {
      "image/png": "[encoded data removed]",
      "text/plain": [
       "<Figure size 432x288 with 1 Axes>"
      ]
     },
     "metadata": {
      "needs_background": "light"
     },
     "output_type": "display_data"
    }
   ],
   "source": [
    "import numpy as np\n",
    "import matplotlib.pyplot as plt\n",
    "m=3000\n",
    "n=1000\n",
    "dm=300\n",
    "k=63000\n",
    "mem=[]\n",
    "\n",
    "for i in range(n):\n",
    "    mem.append(m)\n",
    "np.random.seed(123)\n",
    "memb=mem\n",
    "for j in range(k):\n",
    "    coin=np.random.randint(0,2)\n",
    "    x=np.random.randint(0,n)\n",
    "    y=np.random.randint(0,n)\n",
    "    if x==y:\n",
    "        pass\n",
    "    elif memb[x]==0 or memb[y]==0:\n",
    "        pass\n",
    "    elif coin==1:\n",
    "        memb[x]=memb[x]+dm\n",
    "        memb[y]=memb[y]-dm\n",
    "     \n",
    "    else:\n",
    "        memb[x]=memb[x]-dm\n",
    "        memb[y]=memb[y]+dm\n",
    "plt.hist(memb, bins=10)\n",
    "plt.xlabel('Money')\n",
    "plt.ylabel('Number of students')\n",
    "plt.show()\n"
   ]
  },
  {
   "cell_type": "code",
   "execution_count": 32,
   "metadata": {},
   "outputs": [
    {
     "data": {
      "image/png": "[encoded data removed]",
      "text/plain": [
       "<Figure size 432x288 with 1 Axes>"
      ]
     },
     "metadata": {
      "needs_background": "light"
     },
     "output_type": "display_data"
    }
   ],
   "source": [
    "import numpy as np\n",
    "import matplotlib.pyplot as plt\n",
    "m=3000\n",
    "n=1000\n",
    "dm=300\n",
    "k=63000\n",
    "mem=[]\n",
    "\n",
    "for i in range(n):\n",
    "    mem.append(m)\n",
    "np.random.seed(123)\n",
    "memb=mem\n",
    "for j in range(k):\n",
    "    coin=np.random.randint(0,2)\n",
    "    x=np.random.randint(0,n)\n",
    "    y=np.random.randint(0,n)\n",
    "    if x==y:\n",
    "        pass\n",
    "    \n",
    "    elif coin==1:\n",
    "        memb[x]=memb[x]+dm\n",
    "        memb[y]=memb[y]-dm\n",
    "     \n",
    "    else:\n",
    "        memb[x]=memb[x]-dm\n",
    "        memb[y]=memb[y]+dm\n",
    "plt.hist(memb, bins=10)\n",
    "plt.xlabel('Money')\n",
    "plt.ylabel('Number of students')\n",
    "plt.show()"
   ]
  },
  {
   "cell_type": "code",
   "execution_count": null,
   "metadata": {},
   "outputs": [],
   "source": []
  }
 ],
 "metadata": {
  "kernelspec": {
   "display_name": "Python 3",
   "language": "python",
   "name": "python3"
  },
  "language_info": {
   "codemirror_mode": {
    "name": "ipython",
    "version": 3
   },
   "file_extension": ".py",
   "mimetype": "text/x-python",
   "name": "python",
   "nbconvert_exporter": "python",
   "pygments_lexer": "ipython3",
   "version": "3.7.1"
  }
 },
 "nbformat": 4,
 "nbformat_minor": 2
}
