{
 "cells": [
  {
   "cell_type": "markdown",
   "metadata": {},
   "source": [
    "fp= open('Alice.txt', 'r', encoding='UTF-8')\n",
    "line=fp.readline()\n",
    "while line:\n",
    "    print(line)\n",
    "    line=fp.readline()\n",
    "    s=line.split()\n",
    "    print(s)\n",
    "fp.close()\n",
    "dic={}\n",
    "\n",
    "    "
   ]
  },
  {
   "cell_type": "code",
   "execution_count": 9,
   "metadata": {},
   "outputs": [
    {
     "name": "stdout",
     "output_type": "stream",
     "text": [
      "[]\n"
     ]
    }
   ],
   "source": [
    "s=line.split()\n",
    "print(s)"
   ]
  },
  {
   "cell_type": "code",
   "execution_count": 31,
   "metadata": {
    "scrolled": false
   },
   "outputs": [
    {
     "data": {
      "image/png": "[encoded data removed]",
      "text/plain": [
       "<Figure size 432x288 with 1 Axes>"
      ]
     },
     "metadata": {
      "needs_background": "light"
     },
     "output_type": "display_data"
    },
    {
     "name": "stdout",
     "output_type": "stream",
     "text": [
      "[ 1.92204091e+03 -7.87517371e-01]\n",
      "[[ 4.40435567e+01 -7.21709304e-03]\n",
      " [-7.21709304e-03  3.14112529e-06]]\n"
     ]
    }
   ],
   "source": [
    "import matplotlib.pyplot as plt\n",
    "import numpy as np\n",
    "import string\n",
    "fp= open('Alice.txt', 'r', encoding='UTF-8')\n",
    "line=fp.readline()\n",
    "dic={}\n",
    "while line:\n",
    "    s=line.split()\n",
    "#     print(line)\n",
    "    line=fp.readline()\n",
    "    for w in s:\n",
    "        w.translate(string.punctuation)\n",
    "        w=w.translate(str.maketrans('','',string.punctuation))\n",
    "        w=w.lower()\n",
    "        if w not in dic:\n",
    "            dic[w]=1\n",
    "         \n",
    "        else:\n",
    "            dic[w]=dic[w]+1\n",
    "# print(dic)\n",
    "listk=[]\n",
    "listv=[]\n",
    "for key in dic:\n",
    "    listk.append(dic[key])\n",
    "    \n",
    "for value in dic:\n",
    "    listv.append(dic[value])\n",
    "listk.sort(reverse=True)\n",
    "listk.pop(listk[0])\n",
    "#print(listk)\n",
    "kx=np.linspace(1, len(listk), len(listk))\n",
    "plt.loglog(kx, listk)\n",
    "plt.xlabel('Rank of the word')\n",
    "plt.ylabel('frequency')\n",
    "plt.plot(kx, listk)\n",
    "# plt.show()\n",
    "from scipy import optimize\n",
    "def test_func(x, amp, alpha):\n",
    "    return amp*x**alpha\n",
    "\n",
    "params, params_covariance=optimize.curve_fit(test_func, kx, listk)\n",
    "\n",
    "plt.loglog(kx, test_func(kx, params[0], params[1]))\n",
    "# plt.plot(test_func(kx, params[0], params[1]), 'r*', label='Fitted function')\n",
    "plt.title('Zipf_law')\n",
    "\n",
    "plt.show()\n",
    "\n",
    "print(params)#amp,alpha of Fitted curve\n",
    "print(params_covariance)#covariance of Fitted curve\n",
    "fp.close() "
   ]
  },
  {
   "cell_type": "code",
   "execution_count": null,
   "metadata": {},
   "outputs": [],
   "source": []
  },
  {
   "cell_type": "code",
   "execution_count": null,
   "metadata": {},
   "outputs": [],
   "source": []
  }
 ],
 "metadata": {
  "kernelspec": {
   "display_name": "Python 3",
   "language": "python",
   "name": "python3"
  },
  "language_info": {
   "codemirror_mode": {
    "name": "ipython",
    "version": 3
   },
   "file_extension": ".py",
   "mimetype": "text/x-python",
   "name": "python",
   "nbconvert_exporter": "python",
   "pygments_lexer": "ipython3",
   "version": "3.7.1"
  }
 },
 "nbformat": 4,
 "nbformat_minor": 2
}
